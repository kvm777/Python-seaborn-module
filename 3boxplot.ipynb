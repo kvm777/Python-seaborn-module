{
 "cells": [
  {
   "cell_type": "code",
   "execution_count": 1,
   "id": "656d76bb",
   "metadata": {},
   "outputs": [],
   "source": [
    "import numpy as np\n",
    "import seaborn as sns\n",
    "import matplotlib.pyplot as plt\n",
    "import pandas as pd"
   ]
  },
  {
   "cell_type": "code",
   "execution_count": 2,
   "id": "a252bc07",
   "metadata": {},
   "outputs": [],
   "source": [
    "d1 = pd.read_csv(\"C:\\\\Users\\\\korad\\\\Desktop\\\\python examples\\\\modules\\\\pandas\\\\BILLIONAIRES.csv\")"
   ]
  },
  {
   "cell_type": "code",
   "execution_count": 13,
   "id": "252cdda9",
   "metadata": {},
   "outputs": [
    {
     "data": {
      "text/html": [
       "<div>\n",
       "<style scoped>\n",
       "    .dataframe tbody tr th:only-of-type {\n",
       "        vertical-align: middle;\n",
       "    }\n",
       "\n",
       "    .dataframe tbody tr th {\n",
       "        vertical-align: top;\n",
       "    }\n",
       "\n",
       "    .dataframe thead th {\n",
       "        text-align: right;\n",
       "    }\n",
       "</style>\n",
       "<table border=\"1\" class=\"dataframe\">\n",
       "  <thead>\n",
       "    <tr style=\"text-align: right;\">\n",
       "      <th></th>\n",
       "      <th>RANK</th>\n",
       "      <th>NAME</th>\n",
       "      <th>NET WORTH</th>\n",
       "      <th>AGE</th>\n",
       "      <th>SOURCE</th>\n",
       "      <th>COUNTRY/TERRITORY</th>\n",
       "    </tr>\n",
       "  </thead>\n",
       "  <tbody>\n",
       "    <tr>\n",
       "      <th>0</th>\n",
       "      <td>1.0</td>\n",
       "      <td>Bernard Arnault &amp; family</td>\n",
       "      <td>$176.6 B</td>\n",
       "      <td>73.0</td>\n",
       "      <td>LVMH</td>\n",
       "      <td>France</td>\n",
       "    </tr>\n",
       "    <tr>\n",
       "      <th>1</th>\n",
       "      <td>2.0</td>\n",
       "      <td>Elon Musk</td>\n",
       "      <td>$146.5 B</td>\n",
       "      <td>51.0</td>\n",
       "      <td>Tesla, SpaceX</td>\n",
       "      <td>United States</td>\n",
       "    </tr>\n",
       "    <tr>\n",
       "      <th>2</th>\n",
       "      <td>3.0</td>\n",
       "      <td>Gautam Adani</td>\n",
       "      <td>$116.7 B</td>\n",
       "      <td>60.0</td>\n",
       "      <td>infrastructure, commodities</td>\n",
       "      <td>India</td>\n",
       "    </tr>\n",
       "    <tr>\n",
       "      <th>3</th>\n",
       "      <td>4.0</td>\n",
       "      <td>Jeff Bezos</td>\n",
       "      <td>$108.5 B</td>\n",
       "      <td>58.0</td>\n",
       "      <td>Amazon</td>\n",
       "      <td>United States</td>\n",
       "    </tr>\n",
       "    <tr>\n",
       "      <th>4</th>\n",
       "      <td>5.0</td>\n",
       "      <td>Warren Buffett</td>\n",
       "      <td>$106.3 B</td>\n",
       "      <td>92.0</td>\n",
       "      <td>Berkshire Hathaway</td>\n",
       "      <td>United States</td>\n",
       "    </tr>\n",
       "  </tbody>\n",
       "</table>\n",
       "</div>"
      ],
      "text/plain": [
       "   RANK                      NAME NET WORTH   AGE  \\\n",
       "0   1.0  Bernard Arnault & family  $176.6 B  73.0   \n",
       "1   2.0                 Elon Musk  $146.5 B  51.0   \n",
       "2   3.0              Gautam Adani  $116.7 B  60.0   \n",
       "3   4.0                Jeff Bezos  $108.5 B  58.0   \n",
       "4   5.0            Warren Buffett  $106.3 B  92.0   \n",
       "\n",
       "                        SOURCE COUNTRY/TERRITORY  \n",
       "0                         LVMH            France  \n",
       "1                Tesla, SpaceX     United States  \n",
       "2  infrastructure, commodities             India  \n",
       "3                       Amazon     United States  \n",
       "4           Berkshire Hathaway     United States  "
      ]
     },
     "execution_count": 13,
     "metadata": {},
     "output_type": "execute_result"
    }
   ],
   "source": [
    "d1.head()"
   ]
  },
  {
   "cell_type": "code",
   "execution_count": 4,
   "id": "6028c2f0",
   "metadata": {},
   "outputs": [],
   "source": [
    "d2 = pd.read_excel(\"C:\\\\Users\\\\korad\\\\Desktop\\\\python examples\\\\modules\\\\seaborn\\\\Academic.xlsx\") "
   ]
  },
  {
   "cell_type": "code",
   "execution_count": 11,
   "id": "fcd86518",
   "metadata": {},
   "outputs": [
    {
     "data": {
      "text/html": [
       "<div>\n",
       "<style scoped>\n",
       "    .dataframe tbody tr th:only-of-type {\n",
       "        vertical-align: middle;\n",
       "    }\n",
       "\n",
       "    .dataframe tbody tr th {\n",
       "        vertical-align: top;\n",
       "    }\n",
       "\n",
       "    .dataframe thead th {\n",
       "        text-align: right;\n",
       "    }\n",
       "</style>\n",
       "<table border=\"1\" class=\"dataframe\">\n",
       "  <thead>\n",
       "    <tr style=\"text-align: right;\">\n",
       "      <th></th>\n",
       "      <th>S.No.</th>\n",
       "      <th>Roll No.</th>\n",
       "      <th>Name</th>\n",
       "      <th>1-1 Semester</th>\n",
       "      <th>1-2 Semester</th>\n",
       "      <th>2-1 Semester</th>\n",
       "      <th>2-2 Semester</th>\n",
       "      <th>3-1 Semester</th>\n",
       "      <th>3-2 Semester</th>\n",
       "      <th>Average</th>\n",
       "    </tr>\n",
       "  </thead>\n",
       "  <tbody>\n",
       "    <tr>\n",
       "      <th>0</th>\n",
       "      <td>1</td>\n",
       "      <td>18VV1A0301</td>\n",
       "      <td>Alaboni Amulya</td>\n",
       "      <td>7.13</td>\n",
       "      <td>6.67</td>\n",
       "      <td>6.81</td>\n",
       "      <td>6.95</td>\n",
       "      <td>7.27</td>\n",
       "      <td>7.14</td>\n",
       "      <td>6.990</td>\n",
       "    </tr>\n",
       "    <tr>\n",
       "      <th>1</th>\n",
       "      <td>2</td>\n",
       "      <td>18VV1A0302</td>\n",
       "      <td>Alam Harsha Vardhan</td>\n",
       "      <td>7.04</td>\n",
       "      <td>6.25</td>\n",
       "      <td>6.68</td>\n",
       "      <td>6.95</td>\n",
       "      <td>7.23</td>\n",
       "      <td>7.00</td>\n",
       "      <td>6.850</td>\n",
       "    </tr>\n",
       "    <tr>\n",
       "      <th>2</th>\n",
       "      <td>3</td>\n",
       "      <td>18VV1A0303</td>\n",
       "      <td>Anirudh Chandra Vuba</td>\n",
       "      <td>7.38</td>\n",
       "      <td>6.92</td>\n",
       "      <td>7.36</td>\n",
       "      <td>6.55</td>\n",
       "      <td>7.00</td>\n",
       "      <td>7.00</td>\n",
       "      <td>7.030</td>\n",
       "    </tr>\n",
       "    <tr>\n",
       "      <th>3</th>\n",
       "      <td>4</td>\n",
       "      <td>18VV1A0304</td>\n",
       "      <td>Banka Uday Kiran</td>\n",
       "      <td>7.08</td>\n",
       "      <td>6.21</td>\n",
       "      <td>6.18</td>\n",
       "      <td>6.45</td>\n",
       "      <td>7.00</td>\n",
       "      <td>7.04</td>\n",
       "      <td>6.650</td>\n",
       "    </tr>\n",
       "    <tr>\n",
       "      <th>4</th>\n",
       "      <td>5</td>\n",
       "      <td>18VV1A0305</td>\n",
       "      <td>Biddika Santha Kumar</td>\n",
       "      <td>8.58</td>\n",
       "      <td>7.67</td>\n",
       "      <td>7.13</td>\n",
       "      <td>7.00</td>\n",
       "      <td>7.27</td>\n",
       "      <td>7.80</td>\n",
       "      <td>7.570</td>\n",
       "    </tr>\n",
       "    <tr>\n",
       "      <th>...</th>\n",
       "      <td>...</td>\n",
       "      <td>...</td>\n",
       "      <td>...</td>\n",
       "      <td>...</td>\n",
       "      <td>...</td>\n",
       "      <td>...</td>\n",
       "      <td>...</td>\n",
       "      <td>...</td>\n",
       "      <td>...</td>\n",
       "      <td>...</td>\n",
       "    </tr>\n",
       "    <tr>\n",
       "      <th>56</th>\n",
       "      <td>57</td>\n",
       "      <td>19VV5A0377</td>\n",
       "      <td>Pyla Ramya</td>\n",
       "      <td>NaN</td>\n",
       "      <td>NaN</td>\n",
       "      <td>7.00</td>\n",
       "      <td>7.50</td>\n",
       "      <td>7.65</td>\n",
       "      <td>7.23</td>\n",
       "      <td>7.340</td>\n",
       "    </tr>\n",
       "    <tr>\n",
       "      <th>57</th>\n",
       "      <td>58</td>\n",
       "      <td>19VV5A0378</td>\n",
       "      <td>Siva Kali Pranav Teja Surisetty</td>\n",
       "      <td>NaN</td>\n",
       "      <td>NaN</td>\n",
       "      <td>7.05</td>\n",
       "      <td>7.45</td>\n",
       "      <td>7.75</td>\n",
       "      <td>8.00</td>\n",
       "      <td>7.560</td>\n",
       "    </tr>\n",
       "    <tr>\n",
       "      <th>58</th>\n",
       "      <td>59</td>\n",
       "      <td>19VV5A0379</td>\n",
       "      <td>Tanniru Srinu</td>\n",
       "      <td>NaN</td>\n",
       "      <td>NaN</td>\n",
       "      <td>7.95</td>\n",
       "      <td>8.00</td>\n",
       "      <td>7.41</td>\n",
       "      <td>7.87</td>\n",
       "      <td>7.790</td>\n",
       "    </tr>\n",
       "    <tr>\n",
       "      <th>59</th>\n",
       "      <td>60</td>\n",
       "      <td>19VV5A0380</td>\n",
       "      <td>Teki Chandu Durgaprasad</td>\n",
       "      <td>NaN</td>\n",
       "      <td>NaN</td>\n",
       "      <td>7.95</td>\n",
       "      <td>8.00</td>\n",
       "      <td>7.95</td>\n",
       "      <td>8.33</td>\n",
       "      <td>8.050</td>\n",
       "    </tr>\n",
       "    <tr>\n",
       "      <th>60</th>\n",
       "      <td>61</td>\n",
       "      <td>19VV5A0381</td>\n",
       "      <td>Vangala Rohini</td>\n",
       "      <td>NaN</td>\n",
       "      <td>NaN</td>\n",
       "      <td>7.27</td>\n",
       "      <td>7.91</td>\n",
       "      <td>7.64</td>\n",
       "      <td>7.76</td>\n",
       "      <td>7.645</td>\n",
       "    </tr>\n",
       "  </tbody>\n",
       "</table>\n",
       "<p>61 rows × 10 columns</p>\n",
       "</div>"
      ],
      "text/plain": [
       "    S.No.    Roll No.                             Name  1-1 Semester  \\\n",
       "0       1  18VV1A0301                   Alaboni Amulya          7.13   \n",
       "1       2  18VV1A0302              Alam Harsha Vardhan          7.04   \n",
       "2       3  18VV1A0303             Anirudh Chandra Vuba          7.38   \n",
       "3       4  18VV1A0304                 Banka Uday Kiran          7.08   \n",
       "4       5  18VV1A0305             Biddika Santha Kumar          8.58   \n",
       "..    ...         ...                              ...           ...   \n",
       "56     57  19VV5A0377                       Pyla Ramya           NaN   \n",
       "57     58  19VV5A0378  Siva Kali Pranav Teja Surisetty           NaN   \n",
       "58     59  19VV5A0379                    Tanniru Srinu           NaN   \n",
       "59     60  19VV5A0380          Teki Chandu Durgaprasad           NaN   \n",
       "60     61  19VV5A0381                   Vangala Rohini           NaN   \n",
       "\n",
       "    1-2 Semester  2-1 Semester  2-2 Semester  3-1 Semester  3-2 Semester  \\\n",
       "0           6.67          6.81          6.95          7.27          7.14   \n",
       "1           6.25          6.68          6.95          7.23          7.00   \n",
       "2           6.92          7.36          6.55          7.00          7.00   \n",
       "3           6.21          6.18          6.45          7.00          7.04   \n",
       "4           7.67          7.13          7.00          7.27          7.80   \n",
       "..           ...           ...           ...           ...           ...   \n",
       "56           NaN          7.00          7.50          7.65          7.23   \n",
       "57           NaN          7.05          7.45          7.75          8.00   \n",
       "58           NaN          7.95          8.00          7.41          7.87   \n",
       "59           NaN          7.95          8.00          7.95          8.33   \n",
       "60           NaN          7.27          7.91          7.64          7.76   \n",
       "\n",
       "    Average  \n",
       "0     6.990  \n",
       "1     6.850  \n",
       "2     7.030  \n",
       "3     6.650  \n",
       "4     7.570  \n",
       "..      ...  \n",
       "56    7.340  \n",
       "57    7.560  \n",
       "58    7.790  \n",
       "59    8.050  \n",
       "60    7.645  \n",
       "\n",
       "[61 rows x 10 columns]"
      ]
     },
     "execution_count": 11,
     "metadata": {},
     "output_type": "execute_result"
    }
   ],
   "source": [
    "d2"
   ]
  },
  {
   "cell_type": "code",
   "execution_count": 28,
   "id": "7fd528c9",
   "metadata": {},
   "outputs": [
    {
     "data": {
      "text/plain": [
       "<AxesSubplot: ylabel='Average'>"
      ]
     },
     "execution_count": 28,
     "metadata": {},
     "output_type": "execute_result"
    },
    {
     "data": {
      "image/png": "[encoded data removed]",
      "text/plain": [
       "<Figure size 640x480 with 1 Axes>"
      ]
     },
     "metadata": {},
     "output_type": "display_data"
    }
   ],
   "source": [
    "sns.boxplot(y='Average',data=d2,width=0.2,showmeans=True)"
   ]
  },
  {
   "cell_type": "code",
   "execution_count": 10,
   "id": "8d39114f",
   "metadata": {},
   "outputs": [
    {
     "data": {
      "text/plain": [
       "<AxesSubplot: ylabel='AGE'>"
      ]
     },
     "execution_count": 10,
     "metadata": {},
     "output_type": "execute_result"
    },
    {
     "data": {
      "image/png": "[encoded data removed]",
      "text/plain": [
       "<Figure size 640x480 with 1 Axes>"
      ]
     },
     "metadata": {},
     "output_type": "display_data"
    }
   ],
   "source": [
    "sns.boxplot(y='AGE',data=d1,width=0.2)"
   ]
  },
  {
   "cell_type": "code",
   "execution_count": 20,
   "id": "ef9de501",
   "metadata": {},
   "outputs": [
    {
     "data": {
      "text/plain": [
       "<AxesSubplot: xlabel='COUNTRY/TERRITORY', ylabel='AGE'>"
      ]
     },
     "execution_count": 20,
     "metadata": {},
     "output_type": "execute_result"
    },
    {
     "data": {
      "image/png": "[encoded data removed]",
      "text/plain": [
       "<Figure size 640x480 with 1 Axes>"
      ]
     },
     "metadata": {},
     "output_type": "display_data"
    }
   ],
   "source": [
    "sns.boxplot(x='COUNTRY/TERRITORY',y='AGE',data=d1)"
   ]
  },
  {
   "cell_type": "code",
   "execution_count": 22,
   "id": "2960fa99",
   "metadata": {},
   "outputs": [],
   "source": [
    "d3= pd.read_csv(\"C:\\\\Users\\\\korad\\\\Desktop\\\\seaborn\\\\187.tips.csv\")"
   ]
  },
  {
   "cell_type": "code",
   "execution_count": 27,
   "id": "46fab9c5",
   "metadata": {},
   "outputs": [
    {
     "data": {
      "text/plain": [
       "<AxesSubplot: xlabel='day', ylabel='total_bill'>"
      ]
     },
     "execution_count": 27,
     "metadata": {},
     "output_type": "execute_result"
    },
    {
     "data": {
      "image/png": "[encoded data removed]",
      "text/plain": [
       "<Figure size 640x480 with 1 Axes>"
      ]
     },
     "metadata": {},
     "output_type": "display_data"
    }
   ],
   "source": [
    "sns.boxplot(x='day',y='total_bill',hue='sex',data=d3)"
   ]
  },
  {
   "cell_type": "code",
   "execution_count": 24,
   "id": "7847f9e0",
   "metadata": {},
   "outputs": [
    {
     "data": {
      "text/html": [
       "<div>\n",
       "<style scoped>\n",
       "    .dataframe tbody tr th:only-of-type {\n",
       "        vertical-align: middle;\n",
       "    }\n",
       "\n",
       "    .dataframe tbody tr th {\n",
       "        vertical-align: top;\n",
       "    }\n",
       "\n",
       "    .dataframe thead th {\n",
       "        text-align: right;\n",
       "    }\n",
       "</style>\n",
       "<table border=\"1\" class=\"dataframe\">\n",
       "  <thead>\n",
       "    <tr style=\"text-align: right;\">\n",
       "      <th></th>\n",
       "      <th>total_bill</th>\n",
       "      <th>tip</th>\n",
       "      <th>sex</th>\n",
       "      <th>smoker</th>\n",
       "      <th>day</th>\n",
       "      <th>time</th>\n",
       "      <th>size</th>\n",
       "    </tr>\n",
       "  </thead>\n",
       "  <tbody>\n",
       "    <tr>\n",
       "      <th>0</th>\n",
       "      <td>16.99</td>\n",
       "      <td>1.01</td>\n",
       "      <td>Female</td>\n",
       "      <td>No</td>\n",
       "      <td>Sun</td>\n",
       "      <td>Dinner</td>\n",
       "      <td>2</td>\n",
       "    </tr>\n",
       "    <tr>\n",
       "      <th>1</th>\n",
       "      <td>10.34</td>\n",
       "      <td>1.66</td>\n",
       "      <td>Male</td>\n",
       "      <td>No</td>\n",
       "      <td>Sun</td>\n",
       "      <td>Dinner</td>\n",
       "      <td>3</td>\n",
       "    </tr>\n",
       "    <tr>\n",
       "      <th>2</th>\n",
       "      <td>21.01</td>\n",
       "      <td>3.50</td>\n",
       "      <td>Male</td>\n",
       "      <td>No</td>\n",
       "      <td>Sun</td>\n",
       "      <td>Dinner</td>\n",
       "      <td>3</td>\n",
       "    </tr>\n",
       "    <tr>\n",
       "      <th>3</th>\n",
       "      <td>23.68</td>\n",
       "      <td>3.31</td>\n",
       "      <td>Male</td>\n",
       "      <td>No</td>\n",
       "      <td>Sun</td>\n",
       "      <td>Dinner</td>\n",
       "      <td>2</td>\n",
       "    </tr>\n",
       "    <tr>\n",
       "      <th>4</th>\n",
       "      <td>24.59</td>\n",
       "      <td>3.61</td>\n",
       "      <td>Female</td>\n",
       "      <td>No</td>\n",
       "      <td>Sun</td>\n",
       "      <td>Dinner</td>\n",
       "      <td>4</td>\n",
       "    </tr>\n",
       "  </tbody>\n",
       "</table>\n",
       "</div>"
      ],
      "text/plain": [
       "   total_bill   tip     sex smoker  day    time  size\n",
       "0       16.99  1.01  Female     No  Sun  Dinner     2\n",
       "1       10.34  1.66    Male     No  Sun  Dinner     3\n",
       "2       21.01  3.50    Male     No  Sun  Dinner     3\n",
       "3       23.68  3.31    Male     No  Sun  Dinner     2\n",
       "4       24.59  3.61  Female     No  Sun  Dinner     4"
      ]
     },
     "execution_count": 24,
     "metadata": {},
     "output_type": "execute_result"
    }
   ],
   "source": [
    "d3.head()"
   ]
  },
  {
   "cell_type": "code",
   "execution_count": 29,
   "id": "9cbfc44b",
   "metadata": {},
   "outputs": [
    {
     "data": {
      "text/plain": [
       "<AxesSubplot: >"
      ]
     },
     "execution_count": 29,
     "metadata": {},
     "output_type": "execute_result"
    },
    {
     "data": {
      "image/png": "[encoded data removed]",
      "text/plain": [
       "<Figure size 640x480 with 1 Axes>"
      ]
     },
     "metadata": {},
     "output_type": "display_data"
    }
   ],
   "source": [
    "sns.boxplot(data=d3)"
   ]
  },
  {
   "cell_type": "code",
   "execution_count": null,
   "id": "17c3bf05",
   "metadata": {},
   "outputs": [],
   "source": []
  }
 ],
 "metadata": {
  "kernelspec": {
   "display_name": "Python 3 (ipykernel)",
   "language": "python",
   "name": "python3"
  },
  "language_info": {
   "codemirror_mode": {
    "name": "ipython",
    "version": 3
   },
   "file_extension": ".py",
   "mimetype": "text/x-python",
   "name": "python",
   "nbconvert_exporter": "python",
   "pygments_lexer": "ipython3",
   "version": "3.9.2"
  }
 },
 "nbformat": 4,
 "nbformat_minor": 5
}
