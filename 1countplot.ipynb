{
 "cells": [
  {
   "cell_type": "code",
   "execution_count": null,
   "id": "72eb3304",
   "metadata": {},
   "outputs": [],
   "source": [
    "import seaborn as sns\n",
    "import numpy as np\n",
    "import pandas as pd\n",
    "import matplotlib.pyplot as plt"
   ]
  },
  {
   "cell_type": "code",
   "execution_count": null,
   "id": "c34e01b0",
   "metadata": {},
   "outputs": [],
   "source": [
    "d = pd.read_csv(\"C:\\\\Users\\\\korad\\\\Desktop\\\\seaborn\\\\187.tips.csv\")"
   ]
  },
  {
   "cell_type": "code",
   "execution_count": null,
   "id": "7ef88b3d",
   "metadata": {},
   "outputs": [],
   "source": [
    "sns.countplot(x='sex',data=d)"
   ]
  },
  {
   "cell_type": "code",
   "execution_count": null,
   "id": "ad0edecd",
   "metadata": {},
   "outputs": [],
   "source": [
    "d2 = pd.read_excel(\"C:\\\\Users\\\\korad\\\\Desktop\\\\python examples\\\\modules\\\\seaborn\\\\Academic.xlsx\") "
   ]
  },
  {
   "cell_type": "code",
   "execution_count": null,
   "id": "db184530",
   "metadata": {},
   "outputs": [],
   "source": [
    "\n",
    "sns.countplot(x='day',data=d)\n"
   ]
  },
  {
   "cell_type": "code",
   "execution_count": null,
   "id": "e5f71be2",
   "metadata": {},
   "outputs": [],
   "source": [
    "sns.countplot(y='day',data=d)"
   ]
  },
  {
   "cell_type": "code",
   "execution_count": null,
   "id": "65a9ef59",
   "metadata": {},
   "outputs": [],
   "source": [
    "sns.countplot(x='day',hue='sex',data=d)"
   ]
  },
  {
   "cell_type": "code",
   "execution_count": null,
   "id": "23dda493",
   "metadata": {},
   "outputs": [],
   "source": [
    "sns.countplot(x='day',hue='sex',data=d,palette='tab20c')"
   ]
  },
  {
   "cell_type": "code",
   "execution_count": null,
   "id": "fc1e1449",
   "metadata": {},
   "outputs": [],
   "source": [
    "sns.countplot(x='day',data=d,\n",
    "             facecolor=(0,0,0,0),\n",
    "             linewidth=3,\n",
    "             edgecolor=sns.color_palette('dark',3))"
   ]
  },
  {
   "cell_type": "code",
   "execution_count": null,
   "id": "3a54b6e7",
   "metadata": {},
   "outputs": [],
   "source": []
  }
 ],
 "metadata": {
  "kernelspec": {
   "display_name": "Python 3",
   "language": "python",
   "name": "python3"
  },
  "language_info": {
   "codemirror_mode": {
    "name": "ipython",
    "version": 3
   },
   "file_extension": ".py",
   "mimetype": "text/x-python",
   "name": "python",
   "nbconvert_exporter": "python",
   "pygments_lexer": "ipython3",
   "version": "3.11.2"
  },
  "vscode": {
   "interpreter": {
    "hash": "e5379f0ae2975d5f87b8aaeae03d578bec028939696b08f14ac36b5dbb9c91b1"
   }
  }
 },
 "nbformat": 4,
 "nbformat_minor": 5
}
